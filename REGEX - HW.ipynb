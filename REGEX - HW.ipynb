{
 "cells": [
  {
   "cell_type": "code",
   "execution_count": 1,
   "metadata": {},
   "outputs": [],
   "source": [
    "import nltk"
   ]
  },
  {
   "cell_type": "code",
   "execution_count": 5,
   "metadata": {},
   "outputs": [],
   "source": [
    "from nltk.tokenize import word_tokenize"
   ]
  },
  {
   "cell_type": "code",
   "execution_count": 2,
   "metadata": {},
   "outputs": [],
   "source": [
    "data=\"It originated from the idea that there are readers who prefer learning new skills from the comforts of their drawing rooms\""
   ]
  },
  {
   "cell_type": "code",
   "execution_count": 6,
   "metadata": {},
   "outputs": [
    {
     "name": "stdout",
     "output_type": "stream",
     "text": [
      "[('It', 'PRP'), ('originated', 'VBD'), ('from', 'IN'), ('the', 'DT'), ('idea', 'NN'), ('that', 'IN'), ('there', 'EX'), ('are', 'VBP'), ('readers', 'NNS'), ('who', 'WP'), ('prefer', 'VBP'), ('learning', 'VBG'), ('new', 'JJ'), ('skills', 'NNS'), ('from', 'IN'), ('the', 'DT'), ('comforts', 'NNS'), ('of', 'IN'), ('their', 'PRP$'), ('drawing', 'NN'), ('rooms', 'NNS')]\n"
     ]
    }
   ],
   "source": [
    "words=nltk.word_tokenize(data)\n",
    "tagged=nltk.pos_tag(words)\n",
    "print(tagged)"
   ]
  },
  {
   "cell_type": "code",
   "execution_count": 8,
   "metadata": {},
   "outputs": [],
   "source": [
    "sentence=[]"
   ]
  },
  {
   "cell_type": "code",
   "execution_count": 9,
   "metadata": {},
   "outputs": [],
   "source": [
    "for x in tagged:\n",
    "    sentence.append(x)"
   ]
  },
  {
   "cell_type": "code",
   "execution_count": 10,
   "metadata": {},
   "outputs": [
    {
     "name": "stdout",
     "output_type": "stream",
     "text": [
      "[('It', 'PRP'), ('originated', 'VBD'), ('from', 'IN'), ('the', 'DT'), ('idea', 'NN'), ('that', 'IN'), ('there', 'EX'), ('are', 'VBP'), ('readers', 'NNS'), ('who', 'WP'), ('prefer', 'VBP'), ('learning', 'VBG'), ('new', 'JJ'), ('skills', 'NNS'), ('from', 'IN'), ('the', 'DT'), ('comforts', 'NNS'), ('of', 'IN'), ('their', 'PRP$'), ('drawing', 'NN'), ('rooms', 'NNS')]\n"
     ]
    }
   ],
   "source": [
    "print(sentence)"
   ]
  },
  {
   "cell_type": "code",
   "execution_count": 37,
   "metadata": {},
   "outputs": [],
   "source": [
    "grammar = \"NP:{<VBD>?<VBP>*?<VBG>*}\""
   ]
  },
  {
   "cell_type": "code",
   "execution_count": 38,
   "metadata": {},
   "outputs": [],
   "source": [
    "cp=nltk.RegexpParser(grammar)\n",
    "result=cp.parse(sentence)"
   ]
  },
  {
   "cell_type": "code",
   "execution_count": 39,
   "metadata": {},
   "outputs": [
    {
     "name": "stdout",
     "output_type": "stream",
     "text": [
      "(S\n",
      "  It/PRP\n",
      "  (NP originated/VBD)\n",
      "  from/IN\n",
      "  the/DT\n",
      "  idea/NN\n",
      "  that/IN\n",
      "  there/EX\n",
      "  (NP are/VBP)\n",
      "  readers/NNS\n",
      "  who/WP\n",
      "  (NP prefer/VBP learning/VBG)\n",
      "  new/JJ\n",
      "  skills/NNS\n",
      "  from/IN\n",
      "  the/DT\n",
      "  comforts/NNS\n",
      "  of/IN\n",
      "  their/PRP$\n",
      "  drawing/NN\n",
      "  rooms/NNS)\n"
     ]
    }
   ],
   "source": [
    "print(result)"
   ]
  },
  {
   "cell_type": "code",
   "execution_count": 40,
   "metadata": {},
   "outputs": [],
   "source": [
    "result.draw()"
   ]
  },
  {
   "cell_type": "code",
   "execution_count": null,
   "metadata": {},
   "outputs": [],
   "source": [
    "grammar = \"NP:{<VBD>?<VBP>*?<VBG>*}\""
   ]
  }
 ],
 "metadata": {
  "kernelspec": {
   "display_name": "Python 3",
   "language": "python",
   "name": "python3"
  },
  "language_info": {
   "codemirror_mode": {
    "name": "ipython",
    "version": 3
   },
   "file_extension": ".py",
   "mimetype": "text/x-python",
   "name": "python",
   "nbconvert_exporter": "python",
   "pygments_lexer": "ipython3",
   "version": "3.7.9"
  }
 },
 "nbformat": 4,
 "nbformat_minor": 4
}
